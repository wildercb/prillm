{
 "cells": [
  {
   "cell_type": "code",
   "execution_count": null,
   "metadata": {},
   "outputs": [],
   "source": [
    "#For colab \n",
    "\n",
    "!git clone https://github.com/wildercb/prillm\n",
    "%cd lit-gpt/\n",
    "\n",
    "# install the dependencies\n",
    "!pip install huggingface_hub tokenizers sentencepiece -r requirements.txt -q"
   ]
  },
  {
   "cell_type": "markdown",
   "metadata": {},
   "source": [
    "# download the weights\n",
    "# Note: was experience error where lit_config.json file was not downloading\n",
    "# To address gather the model information directly from hugging face and format for lit_config \n",
    "!python scripts/download.py --repo_id tiiuae/falcon-7b\n",
    "!python scripts/convert_hf_checkpoint.py --checkpoint_dir checkpoints/tiiuae/falcon-7b"
   ]
  },
  {
   "cell_type": "code",
   "execution_count": null,
   "metadata": {},
   "outputs": [],
   "source": [
    "# run inference\n",
    "!python generate/base.py --prompt \"Hello, my name is\" \\\n",
    "--checkpoint_dir checkpoints/EleutherA-pythia70M  \\\n",
    "# if quantize --quantize bnb.int8"
   ]
  },
  {
   "cell_type": "code",
   "execution_count": null,
   "metadata": {},
   "outputs": [],
   "source": [
    "# prepare text data \n",
    "\n",
    "!python scripts/prepare_training_text.py \n",
    "--text_data = \"data/text/privacydata.txt\"\n",
    "\n"
   ]
  },
  {
   "cell_type": "code",
   "execution_count": null,
   "metadata": {},
   "outputs": [],
   "source": [
    "# prepare json for instruction tuning\n",
    "# snli dataset converted for preperation\n",
    "!python scripts/prepare_csv.py \n",
    "--csv_path data/snli.csv"
   ]
  },
  {
   "cell_type": "code",
   "execution_count": 6,
   "metadata": {},
   "outputs": [
    {
     "name": "stdout",
     "output_type": "stream",
     "text": [
      "hi\n",
      "0\n",
      "two\n",
      "1\n",
      "three\n",
      "2\n",
      "hi\n"
     ]
    }
   ],
   "source": [
    "itos = []\n",
    "stoi = []\n",
    "\n",
    "lista = ['hi','two','three']\n",
    "for idx, entry in enumerate(lista):\n",
    "    itos.append(entry)\n",
    "    stoi.append( idx)\n",
    "\n",
    "print(lista[0])"
   ]
  },
  {
   "cell_type": "code",
   "execution_count": null,
   "metadata": {},
   "outputs": [],
   "source": []
  }
 ],
 "metadata": {
  "kernelspec": {
   "display_name": "Python 3",
   "language": "python",
   "name": "python3"
  },
  "language_info": {
   "codemirror_mode": {
    "name": "ipython",
    "version": 3
   },
   "file_extension": ".py",
   "mimetype": "text/x-python",
   "name": "python",
   "nbconvert_exporter": "python",
   "pygments_lexer": "ipython3",
   "version": "3.10.8"
  }
 },
 "nbformat": 4,
 "nbformat_minor": 2
}
